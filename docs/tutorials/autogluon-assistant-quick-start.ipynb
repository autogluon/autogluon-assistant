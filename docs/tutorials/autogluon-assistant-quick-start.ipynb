{
 "cells": [
  {
   "attachments": {},
   "cell_type": "markdown",
   "id": "998885f294556807",
   "metadata": {},
   "source": [
    "# AutoGluon Assistant - Quick Start\n",
    "\n",
    "[![Open In Colab](https://colab.research.google.com/assets/colab-badge.svg)](https://github.com/autogluon/autogluon-assistant)\n",
    "[![Open In SageMaker Studio Lab](https://studiolab.sagemaker.aws/studiolab.svg)](https://github.com/autogluon/autogluon-assistant)\n",
    "\n",
    "(Links above are still WIP)\n",
    "\n",
    "In this tutorial, we will see how to use AutoGluon Assistant (AG-A) to solve machine learning problems **with zero line of code**. AG-A combines the power of AutoGluon's state-of-the-art AutoML capabilities with Large Language Models (LLMs) to automate the entire data science pipeline.\n",
    "\n",
    "We will cover:\n",
    "- Setting up AutoGluon Assistant\n",
    "- Preparing Your Data\n",
    "- Using AutoGluon Assistant\n",
    "\n",
    "By the end of this tutorial, you'll be able to run your data with our highly accurate ML solutions using just natural language instructions. Let's get started with the installation!"
   ]
  },
  {
   "cell_type": "markdown",
   "id": "f06e8e04",
   "metadata": {},
   "source": [
    "## Setting up AutoGluon Assistant\n",
    "Getting started with AutoGluon Assistant is straightforward. Let's install it directly using pip:"
   ]
  },
  {
   "cell_type": "code",
   "execution_count": null,
   "id": "f4d1edc3d2f610f6",
   "metadata": {},
   "outputs": [],
   "source": [
    "!pip install git+https://github.com/autogluon/autogluon-assistant.git#egg=autogluon-assistant[dev]"
   ]
  },
  {
   "cell_type": "markdown",
   "id": "8d4f6834",
   "metadata": {},
   "source": [
    "AutoGluon Assistant supports two LLM providers: AWS Bedrock (default) and OpenAI. Choose one of the following setups:"
   ]
  },
  {
   "cell_type": "code",
   "execution_count": null,
   "id": "ff904c9d1af0ac39",
   "metadata": {},
   "outputs": [],
   "source": [
    "# Option A: AWS Bedrock (Recommended)\n",
    "!export BEDROCK_API_KEY='4509...'\n",
    "!export AWS_DEFAULT_REGION='<your-region>'\n",
    "!export AWS_ACCESS_KEY_ID='<your-access-key>'\n",
    "!export AWS_SECRET_ACCESS_KEY='<your-secret-key>'\n",
    "### OR ###\n",
    "# Option B: OpenAI\n",
    "!export OPENAI_API_KEY='sk-...'"
   ]
  },
  {
   "cell_type": "markdown",
   "id": "6ec461b5",
   "metadata": {},
   "source": [
    "*Note: If using OpenAI, we recommend a paid API key rather than a free-tier account to avoid rate limiting issues.*"
   ]
  },
  {
   "cell_type": "markdown",
   "id": "ea9e1754",
   "metadata": {},
   "source": [
    "Let's verify the installation by importing the package:"
   ]
  },
  {
   "cell_type": "code",
   "execution_count": null,
   "id": "ce77f5dc",
   "metadata": {},
   "outputs": [],
   "source": [
    "import autogluon_assistant\n",
    "\n",
    "print(autogluon_assistant.__version__)"
   ]
  },
  {
   "cell_type": "markdown",
   "id": "052f7fec",
   "metadata": {},
   "source": [
    "\n",
    "Now that you have AutoGluon Assistant installed and configured, let's move on to preparing your data directory structure for your first ML project!"
   ]
  },
  {
   "cell_type": "markdown",
   "id": "e42b07bc64929c80",
   "metadata": {},
   "source": [
    "## Preparing Your Data"
   ]
  },
  {
   "cell_type": "markdown",
   "id": "f247a5c20c9be613",
   "metadata": {},
   "source": [
    "For this tutorial, we'll use the classic Titanic dataset which is perfect for getting started with machine learning. The goal is to predict whether a passenger survived based on their characteristics such as age, gender, ticket class, and other features. We sampled 1000 training and test examples from the original data. The sampled dataset make this tutorial run quickly, but AutoGluon Assistant can handle the full dataset if desired.\n",
    "\n",
    "Let's download the example data:"
   ]
  },
  {
   "cell_type": "code",
   "execution_count": null,
   "id": "bfda6620a2f2637",
   "metadata": {},
   "outputs": [],
   "source": [
    "import requests, os\n",
    "\n",
    "# Create directory and download example files\n",
    "os.makedirs(\"./toy_data\", exist_ok=True)\n",
    "for f in [\"train.csv\", \"test.csv\", \"descriptions.txt\"]:\n",
    "    open(f\"toy_data/{f}\", \"wb\").write(\n",
    "        requests.get(f\"https://raw.githubusercontent.com/autogluon/autogluon-assistant/main/toy_data/{f}\").content\n",
    "    )"
   ]
  },
  {
   "cell_type": "markdown",
   "id": "c810125a2b8aa286",
   "metadata": {},
   "source": [
    "That's it! We now have:\n",
    "\n",
    "- `train.csv`: Training data with labeled examples\n",
    "- `test.csv`: Test data for making predictions\n",
    "- `descriptions.txt`: A description of the dataset and task\n",
    "\n",
    "Let's take a quick look at our training data and description file:"
   ]
  },
  {
   "cell_type": "code",
   "execution_count": null,
   "id": "735d0a050b701f31",
   "metadata": {},
   "outputs": [],
   "source": [
    "import pandas as pd\n",
    "train_data = pd.read_csv(\"toy_data/train.csv\")\n",
    "train_data.head()"
   ]
  },
  {
   "cell_type": "code",
   "execution_count": null,
   "id": "e4e31f39",
   "metadata": {},
   "outputs": [],
   "source": [
    "with open('toy_data/descriptions.txt', 'r') as f:\n",
    "    print(f.read())"
   ]
  },
  {
   "cell_type": "markdown",
   "id": "ec8a61ef4291bc39",
   "metadata": {},
   "source": [
    "## Using AutoGluon Assistant\n",
    "\n",
    "Now that we have our data ready, let's use AutoGluon Assistant to build our ML model. The simplest way to use AutoGluon Assistant is through the command line - no coding required! After installing the package, you can run it directly from your terminal:"
   ]
  },
  {
   "cell_type": "code",
   "execution_count": null,
   "id": "47bbf825",
   "metadata": {},
   "outputs": [],
   "source": [
    "#TODO: remove the requirement of config files\n",
    "!autogluon-assistant ./toy_data"
   ]
  },
  {
   "cell_type": "markdown",
   "id": "b25c839d",
   "metadata": {},
   "source": [
    "Let's also look at how to use AutoGluon Assistant programmatically in Python:"
   ]
  },
  {
   "cell_type": "code",
   "execution_count": null,
   "id": "362ff589bb29d77d",
   "metadata": {
    "tags": [
     "hide-output"
    ]
   },
   "outputs": [],
   "source": [
    "from autogluon_assistant import AutogluonAssistant\n",
    "\n",
    "# Initialize the assistant\n",
    "assistant = AutogluonAssistant()\n",
    "\n",
    "# Run the assistant\n",
    "output_file = assistant.predict(data_dir=\"./toy_data\")"
   ]
  },
  {
   "cell_type": "markdown",
   "id": "1a0c76c9931ef02a",
   "metadata": {},
   "source": [
    "Let's examine the predictions:"
   ]
  },
  {
   "cell_type": "code",
   "execution_count": null,
   "id": "cd40a5f7",
   "metadata": {},
   "outputs": [],
   "source": [
    "predictions = pd.read_csv(output_file)\n",
    "print(\"\\nFirst few predictions:\")\n",
    "print(predictions.head())"
   ]
  },
  {
   "cell_type": "markdown",
   "id": "79eb2f75ce0e5eed",
   "metadata": {
    "id": "I-da0PXvpD96"
   },
   "source": [
    "## Conclusion\n",
    "\n",
    "In this quickstart tutorial, we saw how AutoGluon Assistant simplifies the entire ML pipeline by allowing users to solve machine learning problems with minimal efforts. With just a data directory, AutoGluon Assistant handles the entire process from data understanding to prediction generation. Check out the other tutorials to learn more about customizing the configuration (WIP), using different LLM providers, and handling various types of ML tasks.\n",
    "\n",
    "Want to dive deeper? Explore our GitHub repository for more advanced features and examples."
   ]
  }
 ],
 "metadata": {
  "kernelspec": {
   "display_name": ".venv",
   "language": "python",
   "name": "python3"
  },
  "language_info": {
   "codemirror_mode": {
    "name": "ipython",
    "version": 3
   },
   "file_extension": ".py",
   "mimetype": "text/x-python",
   "name": "python",
   "nbconvert_exporter": "python",
   "pygments_lexer": "ipython3",
   "version": "3.8.10"
  }
 },
 "nbformat": 4,
 "nbformat_minor": 5
}
